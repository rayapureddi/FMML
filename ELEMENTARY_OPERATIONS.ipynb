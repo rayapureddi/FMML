{
  "nbformat": 4,
  "nbformat_minor": 0,
  "metadata": {
    "colab": {
      "provenance": [],
      "collapsed_sections": []
    },
    "kernelspec": {
      "name": "python3",
      "display_name": "Python 3"
    },
    "language_info": {
      "name": "python"
    }
  },
  "cells": [
    {
      "cell_type": "code",
      "execution_count": 1,
      "metadata": {
        "colab": {
          "base_uri": "https://localhost:8080/"
        },
        "id": "Dwc7m3vUGHxC",
        "outputId": "ab3ab7f8-368a-44e0-abb5-c6ff57ed455e"
      },
      "outputs": [
        {
          "output_type": "stream",
          "name": "stdout",
          "text": [
            "Hello World\n"
          ]
        }
      ],
      "source": [
        "print(\"Hello World\")"
      ]
    },
    {
      "cell_type": "code",
      "source": [
        "a=3\n",
        "b=4\n",
        "print(a)"
      ],
      "metadata": {
        "colab": {
          "base_uri": "https://localhost:8080/"
        },
        "id": "KJakZRW2HP11",
        "outputId": "c58db36e-8beb-4649-8dab-2f0ec15d112e"
      },
      "execution_count": 2,
      "outputs": [
        {
          "output_type": "stream",
          "name": "stdout",
          "text": [
            "3\n"
          ]
        }
      ]
    },
    {
      "cell_type": "code",
      "source": [
        "a=3\n",
        "b=2\n",
        "print(a**b)"
      ],
      "metadata": {
        "colab": {
          "base_uri": "https://localhost:8080/"
        },
        "id": "lObrxo5cHP4Z",
        "outputId": "57b37bbc-72f2-4408-9aaa-7e8b74e0037e"
      },
      "execution_count": 3,
      "outputs": [
        {
          "output_type": "stream",
          "name": "stdout",
          "text": [
            "9\n"
          ]
        }
      ]
    },
    {
      "cell_type": "code",
      "source": [
        "str1=3\n",
        "str2=5\n",
        "print(str1)\n",
        "print(str2)"
      ],
      "metadata": {
        "colab": {
          "base_uri": "https://localhost:8080/"
        },
        "id": "8-rakg_SHP7U",
        "outputId": "ad069691-c018-4179-8b71-c331678ac54d"
      },
      "execution_count": 4,
      "outputs": [
        {
          "output_type": "stream",
          "name": "stdout",
          "text": [
            "3\n",
            "5\n"
          ]
        }
      ]
    },
    {
      "cell_type": "code",
      "source": [
        "def solve(bricks,width,height):\n",
        "  w = [1] + [2] * width\n",
        "  for i in range(width):\n",
        "    if w[i]:\n",
        "      for x in bricks:\n",
        "        if i + x <= width:\n",
        "          w[i + x] += w[i]\n",
        "  return w[width] ** height\n",
        "\n",
        "  bricks = [2,1]\n",
        "  width = 3\n",
        "  height = 2\n",
        "  print(solve(bricks,width,height))"
      ],
      "metadata": {
        "id": "YCd_jbrGHP90"
      },
      "execution_count": 5,
      "outputs": []
    },
    {
      "cell_type": "code",
      "source": [
        "def findVolume(l, b, h) :\n",
        "  return ((l * b * h) / 2)\n",
        "  l = 10\n",
        "  b = 15\n",
        "  h = 20\n",
        "  print(\"Volume of triangular prism: \", findVolumme(l, b, h))"
      ],
      "metadata": {
        "id": "nm-uSwW1HQAa"
      },
      "execution_count": 6,
      "outputs": []
    },
    {
      "cell_type": "code",
      "source": [
        "a=19\n",
        "b=34\n",
        "print(a==b)"
      ],
      "metadata": {
        "colab": {
          "base_uri": "https://localhost:8080/"
        },
        "id": "x8vqy3KeHQDJ",
        "outputId": "c21ef556-4809-42fb-b11a-cecf3a7f41b5"
      },
      "execution_count": 7,
      "outputs": [
        {
          "output_type": "stream",
          "name": "stdout",
          "text": [
            "False\n"
          ]
        }
      ]
    },
    {
      "cell_type": "code",
      "source": [
        "a=23\n",
        "b=35\n",
        "print(a<b and a>b)"
      ],
      "metadata": {
        "colab": {
          "base_uri": "https://localhost:8080/"
        },
        "id": "upCf_8vsHQFt",
        "outputId": "2a9a5b2c-61dc-4bae-d833-d29b0ba87c15"
      },
      "execution_count": 8,
      "outputs": [
        {
          "output_type": "stream",
          "name": "stdout",
          "text": [
            "False\n"
          ]
        }
      ]
    },
    {
      "cell_type": "code",
      "source": [
        "a=5\n",
        "b=2,4,6,7,8\n",
        "print(a in {b})"
      ],
      "metadata": {
        "colab": {
          "base_uri": "https://localhost:8080/"
        },
        "id": "s1u50adAHQIZ",
        "outputId": "f6f25ca9-dbc2-4c1c-cafe-bb34a96fd35b"
      },
      "execution_count": 9,
      "outputs": [
        {
          "output_type": "stream",
          "name": "stdout",
          "text": [
            "False\n"
          ]
        }
      ]
    }
  ]
}